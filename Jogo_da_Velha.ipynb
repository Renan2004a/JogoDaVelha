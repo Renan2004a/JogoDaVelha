{
  "nbformat": 4,
  "nbformat_minor": 0,
  "metadata": {
    "colab": {
      "provenance": [],
      "authorship_tag": "ABX9TyPX/NCfDmgEDI5azH2td1Qy"
    },
    "kernelspec": {
      "name": "python3",
      "display_name": "Python 3"
    },
    "language_info": {
      "name": "python"
    }
  },
  "cells": [
    {
      "cell_type": "code",
      "execution_count": null,
      "metadata": {
        "colab": {
          "base_uri": "https://localhost:8080/"
        },
        "id": "BzyYaOcsQBbT",
        "outputId": "760a0d08-1d50-4e36-c3f9-2ccac18a858b"
      },
      "outputs": [
        {
          "output_type": "stream",
          "name": "stdout",
          "text": [
            "\n",
            "BEM VINDOS AO NOSSO JOGO DA VELHA\n",
            "\n",
            "AS LINHAS E COLUNAS SÃO DISPOSTAS ENTRE 0 E 2\n",
            "\n"
          ]
        }
      ],
      "source": [
        "# Função para imprimir a matriz\n",
        "def imprima(m):\n",
        "    for i in range(3):\n",
        "        print()\n",
        "        for j in range(3):\n",
        "            print(m[i][j], end='|')\n",
        "    print()\n",
        "\n",
        "# Função para verificar se houve vitória por linha\n",
        "def ganhou_linha(matriz):\n",
        "    for l in range(3):\n",
        "        soma = sum(matriz[l])\n",
        "        if soma == 3 or soma == 12:  # Verifica se algum jogador completou a linha\n",
        "            return True\n",
        "    return False\n",
        "\n",
        "# Função para verificar se houve vitória por coluna\n",
        "def ganhou_coluna(matriz):\n",
        "    for c in range(3):\n",
        "        soma = matriz[0][c] + matriz[1][c] + matriz[2][c]\n",
        "        if soma == 3 or soma == 12:  # Verifica se algum jogador completou a coluna\n",
        "            return True\n",
        "    return False\n",
        "\n",
        "# Função para verificar se houve vitória por diagonal\n",
        "def ganhou_diagonal(matriz):\n",
        "    principal = 0\n",
        "    secundaria = 0\n",
        "    for i in range(3):\n",
        "        principal += matriz[i][i]\n",
        "        secundaria += matriz[i][2 - i]\n",
        "    if principal == 3 or principal == 12:  # Verifica a diagonal principal\n",
        "        return True\n",
        "    if secundaria == 3 or secundaria == 12:  # Verifica a diagonal secundária\n",
        "        return True\n",
        "    return False\n",
        "\n",
        "# Função para verificar se houve vitória total\n",
        "def ganhou_total(matriz):\n",
        "    if ganhou_linha(matriz) or ganhou_coluna(matriz) or ganhou_diagonal(matriz):\n",
        "        return True\n",
        "    return False\n",
        "\n",
        "# Matriz para armazenar o jogo da velha\n",
        "matriz = [[0, 0, 0],\n",
        "          [0, 0, 0],\n",
        "          [0, 0, 0]]\n",
        "\n",
        "contador = 0  # Contador para o número de jogadas\n",
        "jogador = 1   # Jogador atual (começa com o jogador 1)\n",
        "\n",
        "# Loop principal do jogo\n",
        "while True:\n",
        "    print()\n",
        "    print(\"BEM VINDOS AO NOSSO JOGO DA VELHA\")\n",
        "    print()\n",
        "    print(\"AS LINHAS E COLUNAS SÃO DISPOSTAS ENTRE 0 E 2\")\n",
        "    print()\n",
        "    l = int(input(\"ESCOLHA A LINHA: \"))\n",
        "    c = int(input(\"ESCOLHA A COLUNA: \"))\n",
        "    matriz[l][c] = jogador  # Atualiza a matriz com a jogada do jogador\n",
        "    imprima(matriz)  # Mostra a matriz atualizada\n",
        "\n",
        "    # Muda o jogador atual para o próximo\n",
        "    if jogador == 1:\n",
        "        jogador = 4\n",
        "    else:\n",
        "        jogador = 1\n",
        "\n",
        "    contador = contador + 1  # Incrementa o contador de jogadas\n",
        "\n",
        "    # Verifica se algum jogador venceu\n",
        "    if ganhou_total(matriz):\n",
        "        print(\"PARABÉNS! VOCÊ VENCEU!\")\n",
        "        break\n",
        "\n",
        "    # Verifica se houve empate (velha)\n",
        "    if contador == 9:\n",
        "        print(\"DEU VELHA!\")\n",
        "        break"
      ]
    }
  ]
}